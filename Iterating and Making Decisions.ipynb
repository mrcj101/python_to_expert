{
 "cells": [
  {
   "cell_type": "markdown",
   "metadata": {},
   "source": [
    "# Conditional programming "
   ]
  },
  {
   "cell_type": "code",
   "execution_count": 1,
   "metadata": {},
   "outputs": [
    {
     "name": "stdout",
     "output_type": "stream",
     "text": [
      "am learning python\n"
     ]
    }
   ],
   "source": [
    "let = True\n",
    "if let:\n",
    "    print(\"am learning python\")\n",
    "    "
   ]
  },
  {
   "cell_type": "markdown",
   "metadata": {},
   "source": [
    "## A specialized else: elif "
   ]
  },
  {
   "cell_type": "code",
   "execution_count": 2,
   "metadata": {},
   "outputs": [
    {
     "name": "stdout",
     "output_type": "stream",
     "text": [
      "I will pay: 3000.0 in taxes\n"
     ]
    }
   ],
   "source": [
    "income = 15000 \n",
    "if income < 10000:    \n",
    "    tax_coefficient = 0.0  \n",
    "elif income < 30000:    \n",
    "    tax_coefficient = 0.2  \n",
    "elif income < 100000:    \n",
    "    tax_coefficient = 0.35  \n",
    "else:    tax_coefficient = 0.45  \n",
    "print('I will pay:', income * tax_coefficient, 'in taxes')\n",
    "\n",
    "# equalities or inequalities (==, !=, <, >, <=, >=)"
   ]
  },
  {
   "cell_type": "markdown",
   "metadata": {},
   "source": [
    "## The ternary operator"
   ]
  },
  {
   "cell_type": "code",
   "execution_count": 4,
   "metadata": {},
   "outputs": [
    {
     "name": "stdout",
     "output_type": "stream",
     "text": [
      "0\n"
     ]
    }
   ],
   "source": [
    "# ternary operator \n",
    "num1 = 5\n",
    "num2 = 10 if num1 > 10  else 0 \n",
    "print(num2)"
   ]
  },
  {
   "cell_type": "markdown",
   "metadata": {},
   "source": [
    "# looping\n",
    "## For loop"
   ]
  },
  {
   "cell_type": "code",
   "execution_count": 5,
   "metadata": {},
   "outputs": [
    {
     "name": "stdout",
     "output_type": "stream",
     "text": [
      "0\n",
      "1\n",
      "2\n",
      "3\n",
      "4\n"
     ]
    }
   ],
   "source": [
    "for number in [0, 1, 2, 3, 4]:  \n",
    "    print(number)"
   ]
  },
  {
   "cell_type": "code",
   "execution_count": 7,
   "metadata": {},
   "outputs": [
    {
     "name": "stdout",
     "output_type": "stream",
     "text": [
      "0\n",
      "1\n",
      "2\n",
      "3\n",
      "4\n"
     ]
    }
   ],
   "source": [
    "for number in range(5):  #[0, 5)\n",
    "    print(number)"
   ]
  },
  {
   "cell_type": "code",
   "execution_count": 10,
   "metadata": {},
   "outputs": [
    {
     "name": "stdout",
     "output_type": "stream",
     "text": [
      "0 Rivest\n",
      "1 Shamir\n",
      "2 Adleman\n"
     ]
    }
   ],
   "source": [
    "surnames = ['Rivest', 'Shamir', 'Adleman'] \n",
    "for position in range(len(surnames)):  \n",
    "    print(position, surnames[position])"
   ]
  },
  {
   "cell_type": "code",
   "execution_count": 11,
   "metadata": {},
   "outputs": [
    {
     "name": "stdout",
     "output_type": "stream",
     "text": [
      "0 Rivest\n",
      "1 Shamir\n",
      "2 Adleman\n"
     ]
    }
   ],
   "source": [
    "#pythonic \n",
    "for position, surname in enumerate(surnames):  #enumerate gives back a 2-tuple (position, surname)\n",
    "    print(position, surname)"
   ]
  },
  {
   "cell_type": "markdown",
   "metadata": {},
   "source": [
    "## Iterators and iterables\n",
    "\n",
    "### According to the Python documentation, an iterable is: \"An object capable of returning its members one at a time...\"\n",
    "#### Using a for loop it is possible to iterate over lists, tuples, and in general anything that in Python is called iterable.\n",
    "#### Iterables can be used in a for loop and in many other places where a sequence is needed (zip(), map(), ...)"
   ]
  },
  {
   "cell_type": "code",
   "execution_count": 12,
   "metadata": {},
   "outputs": [
    {
     "name": "stdout",
     "output_type": "stream",
     "text": [
      "Jonas 25 Belgium\n",
      "Julio 30 Spain\n",
      "Mike 31 England\n",
      "Mez 39 Bangladesh\n"
     ]
    }
   ],
   "source": [
    "people = ['Jonas', 'Julio', 'Mike', 'Mez'] \n",
    "ages = [25, 30, 31, 39]\n",
    "nationalities = ['Belgium', 'Spain', 'England', 'Bangladesh'] \n",
    "for person, age, nationality in zip(people, ages, nationalities): \n",
    "    print(person, age, nationality)"
   ]
  },
  {
   "cell_type": "code",
   "execution_count": 14,
   "metadata": {},
   "outputs": [
    {
     "name": "stdout",
     "output_type": "stream",
     "text": [
      "Jonas 25 Belgium\n",
      "Julio 30 Spain\n",
      "Mike 31 England\n",
      "Mez 39 Bangladesh\n"
     ]
    }
   ],
   "source": [
    "#more simplified\n",
    "for data in zip(people, ages, nationalities):   \n",
    "    person, age, nationality = data  \n",
    "    print(person, age, nationality)"
   ]
  },
  {
   "cell_type": "markdown",
   "metadata": {},
   "source": [
    "## The while loop"
   ]
  },
  {
   "cell_type": "code",
   "execution_count": 17,
   "metadata": {},
   "outputs": [
    {
     "name": "stdout",
     "output_type": "stream",
     "text": [
      "[1, 0, 0, 1, 1, 1]\n"
     ]
    }
   ],
   "source": [
    "#Let's write some code to calculate the binary representation for number 39: 100111  base 2.\n",
    "\n",
    "n = 39 \n",
    "remainders = [] \n",
    "while n > 0:  \n",
    "    remainder = n % 2  # remainder of division by 2   \n",
    "    remainders.append(remainder)  # we keep track of remainders   \n",
    "    n //= 2  # we divide n by 2\n",
    "# reassign the list to its reversed copy and print it \n",
    "remainders = remainders[::-1]\n",
    "print(remainders)"
   ]
  },
  {
   "cell_type": "code",
   "execution_count": 22,
   "metadata": {},
   "outputs": [
    {
     "name": "stdout",
     "output_type": "stream",
     "text": [
      "[1, 0, 0, 1, 1, 1]\n"
     ]
    }
   ],
   "source": [
    "while n > 0:  \n",
    "    n, remainder = divmod(n, 2) \n",
    "    remainders.append(remainder)\n",
    "# reassign the list to its reversed copy and print it \n",
    "\n",
    "print(remainders)"
   ]
  },
  {
   "cell_type": "code",
   "execution_count": 24,
   "metadata": {},
   "outputs": [
    {
     "name": "stdout",
     "output_type": "stream",
     "text": [
      "scanning item 0\n",
      "scanning item None\n",
      "scanning item 0.0\n",
      "scanning item True\n",
      "At least one item evaluates to True\n"
     ]
    }
   ],
   "source": [
    "items = [0, None, 0.0, True, 0, 7]  # True and 7 evaluate to True \n",
    "found = False  # this is called \"flag\" \n",
    "for item in items:  \n",
    "    print('scanning item', item)  \n",
    "    if item:    \n",
    "        found = True  # we update the flag  \n",
    "        break # continue\n",
    "if found:  # we inspect the flag  \n",
    "    print('At least one item evaluates to True') \n",
    "else:  \n",
    "        print('All items evaluate to False')"
   ]
  },
  {
   "cell_type": "code",
   "execution_count": null,
   "metadata": {},
   "outputs": [],
   "source": [
    "#A special else clause\n",
    "class DriverException(Exception): \n",
    "    pass\n",
    "people = [('James', 17), ('Kirk', 9), ('Lars', 13), ('Robert', 8)] \n",
    "for person, age in people:    \n",
    "    if age >= 18:    \n",
    "        driver = (person, age)     \n",
    "        break\n",
    "else:    raise DriverException('Driver not found.')"
   ]
  },
  {
   "cell_type": "code",
   "execution_count": 36,
   "metadata": {},
   "outputs": [
    {
     "name": "stdout",
     "output_type": "stream",
     "text": [
      "[2, 3, 5, 7, 11, 13, 17, 19, 23, 29, 31, 37, 41, 43, 47, 53, 59, 61, 67, 71, 73, 79, 83, 89, 97]\n"
     ]
    }
   ],
   "source": [
    "primes = [] # this will contain the primes in the end \n",
    "upto = 100  # the limit, inclusive \n",
    "for n in range(2, upto + 1):   \n",
    "    is_prime = True  # flag, new at each iteration of outer for    \n",
    "    for divisor in range(2, n):       \n",
    "        if n % divisor == 0:       \n",
    "            is_prime = False          \n",
    "            break  \n",
    "    if is_prime:  # check on flag    \n",
    "        primes.append(n)\n",
    "print(primes)"
   ]
  },
  {
   "cell_type": "markdown",
   "metadata": {},
   "source": [
    "### itertools module"
   ]
  },
  {
   "cell_type": "code",
   "execution_count": 37,
   "metadata": {},
   "outputs": [
    {
     "name": "stdout",
     "output_type": "stream",
     "text": [
      "5, 8, 11, 14, 17, 20, "
     ]
    }
   ],
   "source": [
    "from itertools import count \n",
    "for n in count(5, 3):    \n",
    "    if n > 20:       \n",
    "        break    \n",
    "    print(n, end=', ')  # instead of newline, comma and space"
   ]
  },
  {
   "cell_type": "code",
   "execution_count": 38,
   "metadata": {},
   "outputs": [
    {
     "name": "stdout",
     "output_type": "stream",
     "text": [
      "[0, 1, 0, 1, 0, 1, 0, 1, 0, 1, 0, 1, 0, 1, 0, 1, 0, 1, 0, 1]\n",
      "[0, 1, 2, 3, 4, 5, 6, 7, 8, 9]\n",
      "[0, 2, 4, 6, 8]\n",
      "[1, 3, 5, 7, 9]\n"
     ]
    }
   ],
   "source": [
    "from itertools import compress\n",
    "data = range(10) \n",
    "even_selector = [1, 0] * 10 \n",
    "odd_selector = [0, 1] * 10\n",
    "even_numbers = list(compress(data, even_selector)) \n",
    "odd_numbers = list(compress(data, odd_selector))\n",
    "print(odd_selector) \n",
    "print(list(data))\n",
    "print(even_numbers) \n",
    "print(odd_numbers)"
   ]
  },
  {
   "cell_type": "code",
   "execution_count": 39,
   "metadata": {},
   "outputs": [
    {
     "name": "stdout",
     "output_type": "stream",
     "text": [
      "[('A', 'B', 'C'), ('A', 'C', 'B'), ('B', 'A', 'C'), ('B', 'C', 'A'), ('C', 'A', 'B'), ('C', 'B', 'A')]\n"
     ]
    }
   ],
   "source": [
    "from itertools import permutations \n",
    "print(list(permutations('ABC')))"
   ]
  },
  {
   "cell_type": "code",
   "execution_count": null,
   "metadata": {},
   "outputs": [],
   "source": []
  }
 ],
 "metadata": {
  "kernelspec": {
   "display_name": "Python 3",
   "language": "python",
   "name": "python3"
  },
  "language_info": {
   "codemirror_mode": {
    "name": "ipython",
    "version": 3
   },
   "file_extension": ".py",
   "mimetype": "text/x-python",
   "name": "python",
   "nbconvert_exporter": "python",
   "pygments_lexer": "ipython3",
   "version": "3.6.7"
  }
 },
 "nbformat": 4,
 "nbformat_minor": 2
}
